{
 "cells": [
  {
   "cell_type": "markdown",
   "metadata": {},
   "source": [
    "# Lab 1 : Prise en main des principaux outils"
   ]
  },
  {
   "cell_type": "markdown",
   "metadata": {},
   "source": [
    "L'objectif de cette fiche d'exercices est de découvrir plusieurs des outils que nous utiliserons dans ces ateliers :\n",
    "+ [Pandas](https://pandas.pydata.org/) : une bibliothèque python spécialisée dans l'analyse de données qui est très utilisée en science des données, notamment pour la manipulation de données. Cette librairie permet notamment de manipuler les données à l'aide de **Data Frame** (tableau de données), ce qui peut être très utile.\n",
    "+ [Scikit-learn](http://scikit-learn.org/stable/) : une bibliothèque python dédiée à la fouille de données et à l’apprentissage automatique\n"
   ]
  },
  {
   "cell_type": "markdown",
   "metadata": {},
   "source": [
    "## SCIKIT-LEARN\n",
    "\n",
    "Scikit-learn est une bibliothèque python dédiée à la fouille de données et à l’apprentissage automatique,\n",
    "développée par une équipe de l'INRIA (l'équipe Parietal de l'INRIA Paris Saclay). La communauté de développement de la bibliothèque est très active et c’est donc une bibliothèque qui évolue souvent et rapidement. Les principaux objets manipulés sont des objets de type array de numpy. C’est une bibliothèque qui possède de nombreuses fonctionnalités et elle est très utile dès lors que l’on souhaite mettre en place une chaîne de d’analyse de données.\n",
    "\n",
    "### Installation de la bibliothèque\n",
    "\n",
    "Installer la bibliothèque : http://scikit-learn.org/stable/install.html\n",
    "\n",
    "        pip3 install -U scikit-learn\n",
    " \n",
    "La documentation en ligne est très complète et il sera nécessaire de la consulter souvent : http://scikit-learn.org/stable/documentation.html.\n",
    "Le langage de référence (API) est disponible à l’adresse suivante : http://scikit-learn.org/stable/modules/classes.html"
   ]
  },
  {
   "cell_type": "markdown",
   "metadata": {},
   "source": [
    "### Premiers pas : chargement et exploration de jeux de données\n",
    "\n",
    "#### Jeu de données IRIS\n",
    "\n",
    "Le [IRIS Data Set](http://archive.ics.uci.edu/ml/datasets/Iris) est un jeu de données très classique en analyse de données. Il a été introduit en 1936 par R.A. Fisher comme un exemple pour l’analyse discriminante. Il contient 150 exemples de critères observés sur trois espèces différentes d’iris : Setosa, Versicolor,Verginica. Chaque exemple est composé de 4 attributs :\n",
    "+ longueur des sépales en cm\n",
    "+ largeur des sépales en cm\n",
    "+ longueur des pétales en cm\n",
    "+ largeur des pétales en cm\n",
    "+ et d’une classe (l’espèce).\n",
    "\n",
    "\n",
    "Ce jeu de données est disponible dans scikit-learn dans le package datasets. Comme tout dataset, il est constitué de :\n",
    "+ **.data** qui stocke les données dans un tableau de taille n:m avec n le nombre d’instances et m le\n",
    "nombre d’attributs.\n",
    "+ **.target** qui stocke les classes de chaque instance.\n",
    "+ **.target_names** qui donne le nom des classes.\n",
    "+ **.feature_names** qui donne le nom des attributs.\n",
    "+ **.DESCR** qui est une description complète du jeu de données.\n"
   ]
  },
  {
   "cell_type": "markdown",
   "metadata": {},
   "source": [
    "Chargez le jeu de données en executant les commandes suivantes :"
   ]
  },
  {
   "cell_type": "code",
   "execution_count": 1,
   "metadata": {},
   "outputs": [],
   "source": [
    "from sklearn import datasets\n",
    "\n",
    "irisData=datasets.load_iris()"
   ]
  },
  {
   "cell_type": "markdown",
   "metadata": {},
   "source": [
    "Afficher respectivement les données, les sorties, les attributs et les noms des classes de ce jeu de données."
   ]
  },
  {
   "cell_type": "code",
   "execution_count": null,
   "metadata": {},
   "outputs": [],
   "source": [
    "# TO DO"
   ]
  },
  {
   "cell_type": "markdown",
   "metadata": {},
   "source": [
    "Un descriptif complet du jeu de données est disponible avec la commande suivante."
   ]
  },
  {
   "cell_type": "code",
   "execution_count": 2,
   "metadata": {},
   "outputs": [
    {
     "name": "stdout",
     "output_type": "stream",
     "text": [
      "Iris Plants Database\n",
      "====================\n",
      "\n",
      "Notes\n",
      "-----\n",
      "Data Set Characteristics:\n",
      "    :Number of Instances: 150 (50 in each of three classes)\n",
      "    :Number of Attributes: 4 numeric, predictive attributes and the class\n",
      "    :Attribute Information:\n",
      "        - sepal length in cm\n",
      "        - sepal width in cm\n",
      "        - petal length in cm\n",
      "        - petal width in cm\n",
      "        - class:\n",
      "                - Iris-Setosa\n",
      "                - Iris-Versicolour\n",
      "                - Iris-Virginica\n",
      "    :Summary Statistics:\n",
      "\n",
      "    ============== ==== ==== ======= ===== ====================\n",
      "                    Min  Max   Mean    SD   Class Correlation\n",
      "    ============== ==== ==== ======= ===== ====================\n",
      "    sepal length:   4.3  7.9   5.84   0.83    0.7826\n",
      "    sepal width:    2.0  4.4   3.05   0.43   -0.4194\n",
      "    petal length:   1.0  6.9   3.76   1.76    0.9490  (high!)\n",
      "    petal width:    0.1  2.5   1.20  0.76     0.9565  (high!)\n",
      "    ============== ==== ==== ======= ===== ====================\n",
      "\n",
      "    :Missing Attribute Values: None\n",
      "    :Class Distribution: 33.3% for each of 3 classes.\n",
      "    :Creator: R.A. Fisher\n",
      "    :Donor: Michael Marshall (MARSHALL%PLU@io.arc.nasa.gov)\n",
      "    :Date: July, 1988\n",
      "\n",
      "This is a copy of UCI ML iris datasets.\n",
      "http://archive.ics.uci.edu/ml/datasets/Iris\n",
      "\n",
      "The famous Iris database, first used by Sir R.A Fisher\n",
      "\n",
      "This is perhaps the best known database to be found in the\n",
      "pattern recognition literature.  Fisher's paper is a classic in the field and\n",
      "is referenced frequently to this day.  (See Duda & Hart, for example.)  The\n",
      "data set contains 3 classes of 50 instances each, where each class refers to a\n",
      "type of iris plant.  One class is linearly separable from the other 2; the\n",
      "latter are NOT linearly separable from each other.\n",
      "\n",
      "References\n",
      "----------\n",
      "   - Fisher,R.A. \"The use of multiple measurements in taxonomic problems\"\n",
      "     Annual Eugenics, 7, Part II, 179-188 (1936); also in \"Contributions to\n",
      "     Mathematical Statistics\" (John Wiley, NY, 1950).\n",
      "   - Duda,R.O., & Hart,P.E. (1973) Pattern Classification and Scene Analysis.\n",
      "     (Q327.D83) John Wiley & Sons.  ISBN 0-471-22361-1.  See page 218.\n",
      "   - Dasarathy, B.V. (1980) \"Nosing Around the Neighborhood: A New System\n",
      "     Structure and Classification Rule for Recognition in Partially Exposed\n",
      "     Environments\".  IEEE Transactions on Pattern Analysis and Machine\n",
      "     Intelligence, Vol. PAMI-2, No. 1, 67-71.\n",
      "   - Gates, G.W. (1972) \"The Reduced Nearest Neighbor Rule\".  IEEE Transactions\n",
      "     on Information Theory, May 1972, 431-433.\n",
      "   - See also: 1988 MLC Proceedings, 54-64.  Cheeseman et al\"s AUTOCLASS II\n",
      "     conceptual clustering system finds 3 classes in the data.\n",
      "   - Many, many more ...\n",
      "\n"
     ]
    }
   ],
   "source": [
    "print(irisData.DESCR)"
   ]
  },
  {
   "cell_type": "markdown",
   "metadata": {},
   "source": [
    "#### Visualisation de données - graphiques"
   ]
  },
  {
   "cell_type": "code",
   "execution_count": 5,
   "metadata": {},
   "outputs": [],
   "source": [
    "%matplotlib inline\n",
    "# Cette première instruction indique à Jupyter d'insérer les graphiques\n",
    "# dans le notebook plutôt que dans une fenêtre externe.\n",
    "import matplotlib.pyplot as plt\n",
    "plt.style.use('ggplot')\n",
    "# Ces deux lignes change le style des graphes."
   ]
  },
  {
   "cell_type": "code",
   "execution_count": 6,
   "metadata": {},
   "outputs": [
    {
     "data": {
      "image/png": "[encoded data removed]",
      "text/plain": [
       "<Figure size 432x288 with 1 Axes>"
      ]
     },
     "metadata": {},
     "output_type": "display_data"
    }
   ],
   "source": [
    "from itertools import cycle\n",
    "import pylab as pl\n",
    "\n",
    "def plot_2D(data,target,target_names):\n",
    "    colors = cycle('rgbcmykw')\n",
    "    target_ids = range(len(target_names))\n",
    "    plt.figure()\n",
    "    for i,c,label in zip(target_ids,colors, target_names):\n",
    "        plt.scatter(data[target==i,2], data[target==i,3],c=c,label=label)\n",
    "    plt.legend()\n",
    "    plt.show()\n",
    "    \n",
    "plot_2D(irisData.data,irisData.target,irisData.target_names)    "
   ]
  },
  {
   "cell_type": "markdown",
   "metadata": {},
   "source": [
    "Afficher la répartition des données selon d'autres couples d'attributs. "
   ]
  },
  {
   "cell_type": "code",
   "execution_count": null,
   "metadata": {},
   "outputs": [],
   "source": [
    "# TO DO\n"
   ]
  },
  {
   "cell_type": "markdown",
   "metadata": {},
   "source": [
    "Existe-t-il un espace 2D dans lequel les données d'une classe seraient linéairement séparables des données des deux autres classes, i.e. séparables par une droite parmi d'autres ? Si oui, illustrer et donner approximativement l'équation d'une la droite. "
   ]
  },
  {
   "cell_type": "code",
   "execution_count": null,
   "metadata": {},
   "outputs": [],
   "source": [
    "# TO DO"
   ]
  },
  {
   "cell_type": "markdown",
   "metadata": {},
   "source": [
    "#### Jeu de données DIGITS\n",
    "\n",
    "Les données Digit sont des données dédiées à la reconnaissance de caractères disponibles sur le site de l'[UCI](http://archive.ics.uci.edu/ml/datasets/Pen-Based+Recognition+of+Handwritten+Digits). Il comprend 1797 images de résolution $8 \\times 8$, chaque image représentant un chiffre manuscrit. Chaque caractère apparaît sous la forme d'une matrice $8 \\times 8$ de pixels de $16$ niveaux de gris et identifié par un label. Il s'agit du champ *image*. Les données sont stockées sous la forme d'un tableau à trois indices (champ *data*).\n",
    "\n",
    "\n",
    "**Explorez le jeu de données.**\n",
    "\n"
   ]
  },
  {
   "cell_type": "code",
   "execution_count": null,
   "metadata": {},
   "outputs": [],
   "source": [
    "# TO DO\n",
    "digits=datasets.load_digits()"
   ]
  },
  {
   "cell_type": "markdown",
   "metadata": {},
   "source": [
    "Le code python suivant vous permettra d'afficher des exemples d'images à discriminer."
   ]
  },
  {
   "cell_type": "code",
   "execution_count": null,
   "metadata": {},
   "outputs": [],
   "source": [
    "images_and_labels = list(zip(digits.images,digits.target))\n",
    "for index, (image,label) in enumerate(images_and_labels[:10]):\n",
    "    plt.subplot(2,5,index+1)\n",
    "    plt.axis('off')\n",
    "    plt.imshow(image, cmap=plt.cm.gray_r,interpolation='nearest')\n",
    "    plt.title('Training : %i' %label)\n",
    "plt.show()\n"
   ]
  },
  {
   "cell_type": "markdown",
   "metadata": {},
   "source": [
    "**Ecrire un script capable de compter le nombre d'exemples dans chaque classe.**"
   ]
  },
  {
   "cell_type": "code",
   "execution_count": null,
   "metadata": {},
   "outputs": [],
   "source": [
    "# TO DO\n"
   ]
  },
  {
   "cell_type": "markdown",
   "metadata": {},
   "source": [
    "#### Autres jeux de données\n",
    "De nombreux autres jeux de données sont directement disponibles dans **scikit-learn** : *boston, diabetes, linnerud...* La plupart de ces données sont disponibles via une fonction de chargement spécifique mais il est possible aussi de les récupérer facilement via un processus de rapatriement **fetch**, notamment pour la récupération de données du site [mldata.org](http://mldata.org/), en suivant la documentation suivante : http://scikit-learn.org/stable/datasets/index.html#downloading-datasets-from-the-mldata-org-repository.\n",
    "\n",
    "\n",
    "De même, il est possible de traiter des données volumineuses à l'aide de la bibliothèque **pandas**."
   ]
  },
  {
   "cell_type": "code",
   "execution_count": 7,
   "metadata": {},
   "outputs": [
    {
     "name": "stdout",
     "output_type": "stream",
     "text": [
      "Ariel Sharon\n",
      "Colin Powell\n",
      "Donald Rumsfeld\n",
      "George W Bush\n",
      "Gerhard Schroeder\n",
      "Hugo Chavez\n",
      "Tony Blair\n"
     ]
    }
   ],
   "source": [
    "from sklearn.datasets import fetch_lfw_people\n",
    "lfw_people = fetch_lfw_people(min_faces_per_person=70, resize=0.4)\n",
    "\n",
    "for name in lfw_people.target_names:\n",
    "        print(name)"
   ]
  },
  {
   "cell_type": "markdown",
   "metadata": {},
   "source": [
    "# PANDAS\n",
    "\n",
    "Cette partie s'inspire des très bon tutoriels de [Philippe Besse](https://www.math.univ-toulouse.fr/~besse/Wikistat/pdf/st-tutor2-python-pandas.pdf) et de [Xavier Dupré](http://www.xavierdupre.fr/app/ensae_teaching_cs/helpsphinx/td_2a_manip.html#matrices-et-dataframes-numpy-pandas-sql). De nombreux autres tutoriels sont disponibles en ligne : http://pandas.pydata.org/pandas-docs/stable/tutorials.html\n",
    "\n",
    "La bibliothèque Pandas possède de nombreuses riches foncionnalités qui sont à l'origine de son succès et de l'utilisation de Python pour extraire, préparer, et éventuellement analyser des données. En particulier, elle\n",
    "\n",
    "+ **Objets** : les classes **Series** et **DataFrame** ou table de données.\n",
    "+ **Lire, écrire** :  création et exportation de tables de données à partir de fichiers textes (séparateurs, .csv, format fixe, compressés), binaires (HDF5 avec Pytable), HTML, XML, JSON, MongoDB, SQL...\n",
    "+ **Gestion d’une table** : sélection des lignes, colonnes, transformations, réorganisation par niveau d’un facteur, discrétisation de variables quantitatives, exclusion ou imputation élémentaire de données manquantes, permutation et échantillonnage aléatoire, variables indicatrices, chaînes de caractères...\n",
    "+ **Statistiques** élémentaires uni et bivariées, tri à plat (nombre de modalités, devaleurs nulles, de valeurs manquantes...), graphiques associés, statistiques par groupe, détection élémentaire de valeurs atypiques...\n",
    "+ **Manipulation de tables** : concaténations, fusions, jointures, tri, gestion des types et formats\n",
    "\n",
    "## Installation\n",
    "\n",
    "        pip3 install pandas\n",
    "\n",
    "\n",
    "## Series\n",
    "\n",
    "Une [Series](http://pandas.pydata.org/pandas-docs/stable/generated/pandas.Series.html) est un objet uni-dimensionnel similaire à un tableau, une liste ou une colonne d'une table. Chaque valeur est associée à un index qui est par défaut les entiers de $0$ à  $N−1$  (avec  N  la longueur de la Series)."
   ]
  },
  {
   "cell_type": "code",
   "execution_count": 8,
   "metadata": {},
   "outputs": [
    {
     "data": {
      "text/plain": [
       "0          42\n",
       "1    Bonjour!\n",
       "2        3.14\n",
       "3          -5\n",
       "4        None\n",
       "dtype: object"
      ]
     },
     "execution_count": 8,
     "metadata": {},
     "output_type": "execute_result"
    }
   ],
   "source": [
    "import pandas\n",
    "from pandas import Series\n",
    "import numpy\n",
    "s = Series([42, 'Bonjour!', 3.14, -5, None, numpy.nan])\n",
    "s.head()"
   ]
  },
  {
   "cell_type": "markdown",
   "metadata": {},
   "source": [
    "On peut aussi préciser les indices lors de la création."
   ]
  },
  {
   "cell_type": "code",
   "execution_count": null,
   "metadata": {},
   "outputs": [],
   "source": [
    "s2 = Series([42, 'Bonjour!', 3.14, -5, None, numpy.nan], \n",
    "            index=['int', 'string', 'pi', 'neg', 'missing1', 'missing2'])\n",
    "s2"
   ]
  },
  {
   "cell_type": "markdown",
   "metadata": {},
   "source": [
    "On peut aussi construire la Series à partir d'un dictionnaire si on fournit un index avec un dictionnaire, les index qui ne sont pas des clés du dictionnaire seront des valeurs manquantes."
   ]
  },
  {
   "cell_type": "code",
   "execution_count": 9,
   "metadata": {},
   "outputs": [
    {
     "data": {
      "text/plain": [
       "Malakoff    92240\n",
       "Nice         6300\n",
       "Paris14     75014\n",
       "Paris18     75018\n",
       "dtype: int64"
      ]
     },
     "execution_count": 9,
     "metadata": {},
     "output_type": "execute_result"
    }
   ],
   "source": [
    "city2cp_dict = {'Paris14': 75014, 'Paris18': 75018, 'Malakoff': 92240, 'Nice': 6300}\n",
    "cities = Series(city2cp_dict)\n",
    "cities"
   ]
  },
  {
   "cell_type": "markdown",
   "metadata": {},
   "source": [
    "## DataFrame\n",
    "\n",
    "Un DataFrame est un objet qui est présent dans la plupart des logiciels de traitements de données. C'est une matrice, chaque colonne est une **Series** et est de même type (nombre, date, texte), elle peut contenir des valeurs manquantes (nan). On peut considérer chaque colonne comme les variables d'une table.\n",
    "\n",
    "Un Dataframe représente une table de données, i.e. une collection ordonnées de colonnes. Ces colonnes/lignes peuvent avoir des types différents (numérique, string, boolean). Cela est très similaire aux DataFrame du langage R (en apparence...), avec un traitement plus symétrique des lignes et des colonnes. C’est un tableau bi-dimensionnel\n",
    "avec des index de lignes et de colonnes mais il peut également être vu comme une liste de **Series** partageant le même index. L’index de colonne (noms des variables) est un objet de type dict (dictionnaire)."
   ]
  },
  {
   "cell_type": "code",
   "execution_count": null,
   "metadata": {},
   "outputs": [],
   "source": [
    "import pandas\n",
    "l = [ { \"date\":\"2014-06-22\", \"prix\":220.0, \"devise\":\"euros\" }, \n",
    "      { \"date\":\"2014-06-23\", \"prix\":221.0, \"devise\":\"euros\" },]\n",
    "df = pandas.DataFrame(l)\n",
    "df"
   ]
  },
  {
   "cell_type": "code",
   "execution_count": null,
   "metadata": {},
   "outputs": [],
   "source": [
    "import pandas as pd\n",
    "data = {\"state\": [\"Ohio\", \"Ohio\", \"Ohio\",\n",
    "\"Nevada\", \"Nevada\"],\n",
    "\"year\": [2000, 2001, 2002, 2001, 2002],\n",
    "\"pop\": [1.5, 1.7, 3.6, 2.4, 2.9]}\n",
    "frame = pd.DataFrame(data)\n",
    "frame"
   ]
  },
  {
   "cell_type": "code",
   "execution_count": null,
   "metadata": {},
   "outputs": [],
   "source": [
    "# ordre des colonnes\n",
    "pd.DataFrame(data, columns=[\"year\", \"state\", \"pop\"])\n",
    "frame2 = pd.DataFrame(data)\n",
    "frame2"
   ]
  },
  {
   "cell_type": "code",
   "execution_count": null,
   "metadata": {},
   "outputs": [],
   "source": [
    "# index des lignes et valeurs manquantes (NaN)\n",
    "frame2=pd.DataFrame(data, columns=[\"year\", \"state\",\n",
    "\"pop\", \"debt\"],\n",
    "index=[\"one\", \"two\", \"three\", \"four\", \"five\"])\n",
    "frame2"
   ]
  },
  {
   "cell_type": "code",
   "execution_count": null,
   "metadata": {},
   "outputs": [],
   "source": [
    "# liste des colonnes\n",
    "frame.columns"
   ]
  },
  {
   "cell_type": "code",
   "execution_count": null,
   "metadata": {},
   "outputs": [],
   "source": [
    "# valeurs d’une colonne\n",
    "frame[\"state\"]"
   ]
  },
  {
   "cell_type": "code",
   "execution_count": null,
   "metadata": {},
   "outputs": [],
   "source": [
    "# valeurs d’une colonne\n",
    "frame.year"
   ]
  },
  {
   "cell_type": "code",
   "execution_count": null,
   "metadata": {},
   "outputs": [],
   "source": [
    "# \"imputation\"\n",
    "frame2[\"debt\"] = 16.5\n",
    "frame2"
   ]
  },
  {
   "cell_type": "code",
   "execution_count": null,
   "metadata": {},
   "outputs": [],
   "source": [
    "# créer une variable\n",
    "frame2[\"eastern\"] = frame2.state == \"Ohio\"\n",
    "frame2"
   ]
  },
  {
   "cell_type": "markdown",
   "metadata": {},
   "source": [
    "### Lecture et écriture de DataFrame"
   ]
  },
  {
   "cell_type": "markdown",
   "metadata": {},
   "source": [
    "Cette section présente brièvement les fonctions qui permettent de lire/écrire un DataFrame aux formats texte/Excel. L'instruction encoding=utf-8 n'est pas obligatoire mais conseillée lorsque les données contiennent des accents.\n",
    "\n",
    "#### Ecriture"
   ]
  },
  {
   "cell_type": "code",
   "execution_count": null,
   "metadata": {},
   "outputs": [],
   "source": [
    "import pandas\n",
    "l = [ { \"date\":\"2014-06-22\", \"prix\":220.0, \"devise\":\"euros\" }, \n",
    "      { \"date\":\"2014-06-23\", \"prix\":221.0, \"devise\":\"euros\" },]\n",
    "df = pandas.DataFrame(l)\n",
    "\n",
    "# écriture au format texte\n",
    "df.to_csv(\"exemple.txt\",sep=\"\\t\",encoding=\"utf-8\", index=False)\n",
    "\n",
    "# on regarde ce qui a été enregistré\n",
    "with open(\"exemple.txt\", \"r\", encoding=\"utf-8\") as f: \n",
    "    text = f.read()\n",
    "print(text)\n",
    "\n",
    "# on enregistre au format Excel\n",
    "df.to_excel(\"exemple.xlsx\", index=False)\n"
   ]
  },
  {
   "cell_type": "markdown",
   "metadata": {},
   "source": [
    "#### Lecture\n",
    "\n",
    "On peut récupérer des données directement depuis Internet ou une chaîne de caractères et afficher le début (*head*) ou la fin (*tail*).\n",
    "\n",
    "Nous allons travailler avec les données : [heart.txt](./Data/marathon.txt) (source : R. Rakotomalala)"
   ]
  },
  {
   "cell_type": "code",
   "execution_count": null,
   "metadata": {},
   "outputs": [],
   "source": [
    "#chargement du fichier\n",
    "#df est le nom de l'objet de type data frame créé\n",
    "#sep spécifie le caractère séparateur de colonnes\n",
    "#header = 0 : la ligne numéro 0 = aux noms des champs\n",
    "#éventuellement decimal permet d'indiquer le point décimal\n",
    "df = pandas.read_table(\"./Data/heart.txt\",sep = '\\t',header = 0)\n",
    "#vérifions le type de df\n",
    "print(type(df))\n"
   ]
  },
  {
   "cell_type": "code",
   "execution_count": null,
   "metadata": {},
   "outputs": [],
   "source": [
    "#afficher les premières lignes du jeu de données\n",
    "df.head()"
   ]
  },
  {
   "cell_type": "code",
   "execution_count": null,
   "metadata": {},
   "outputs": [],
   "source": [
    "#dimensions : nombre de lignes, nombre de colonnes\n",
    "#la ligne d'en-tête n'est pas comptabilisée\n",
    "#dans le nombre de lignes\n",
    "print(df.shape)"
   ]
  },
  {
   "cell_type": "code",
   "execution_count": null,
   "metadata": {},
   "outputs": [],
   "source": [
    "#énumération des colonnes\n",
    "print(df.columns)"
   ]
  },
  {
   "cell_type": "code",
   "execution_count": null,
   "metadata": {},
   "outputs": [],
   "source": [
    "#type de chaque colonne\n",
    "print(df.dtypes)"
   ]
  },
  {
   "cell_type": "code",
   "execution_count": null,
   "metadata": {},
   "outputs": [],
   "source": [
    "#description des données\n",
    "print(df.describe(include='all'))"
   ]
  },
  {
   "cell_type": "markdown",
   "metadata": {},
   "source": [
    "#### Manipulation des variables\n"
   ]
  },
  {
   "cell_type": "code",
   "execution_count": null,
   "metadata": {},
   "outputs": [],
   "source": [
    "#accès à une colonne\n",
    "print(df['sucre'])"
   ]
  },
  {
   "cell_type": "code",
   "execution_count": null,
   "metadata": {},
   "outputs": [],
   "source": [
    "#autre manière d'accéder à une colonne avec le .\n",
    "print(df.sucre)"
   ]
  },
  {
   "cell_type": "code",
   "execution_count": null,
   "metadata": {},
   "outputs": [],
   "source": [
    "#accéder à un ensemble de colonnes\n",
    "print(df[['sexe','sucre']])"
   ]
  },
  {
   "cell_type": "code",
   "execution_count": null,
   "metadata": {},
   "outputs": [],
   "source": [
    "#une colonne est un vecteur (Series en terminologie Pandas)\n",
    "#affichage des premières valeurs\n",
    "print(df['age'].head())"
   ]
  },
  {
   "cell_type": "code",
   "execution_count": null,
   "metadata": {},
   "outputs": [],
   "source": [
    "#affichage des dernières valeurs\n",
    "print(df['age'].tail())"
   ]
  },
  {
   "cell_type": "markdown",
   "metadata": {},
   "source": [
    "#### Quelques statistiques\n",
    "\n",
    "Voir les détails ici : http://pandas.pydata.org/pandas-docs/stable/basics.html#summarizing-data-describe"
   ]
  },
  {
   "cell_type": "code",
   "execution_count": null,
   "metadata": {},
   "outputs": [],
   "source": [
    "print(df['age'].describe())"
   ]
  },
  {
   "cell_type": "code",
   "execution_count": null,
   "metadata": {},
   "outputs": [],
   "source": [
    "#calculer explicitement la moyenne\n",
    "print(df['age'].mean())"
   ]
  },
  {
   "cell_type": "code",
   "execution_count": null,
   "metadata": {},
   "outputs": [],
   "source": [
    "#comptage des valeurs\n",
    "print(df['typedouleur'].value_counts())"
   ]
  },
  {
   "cell_type": "code",
   "execution_count": null,
   "metadata": {},
   "outputs": [],
   "source": [
    "#trier les valeurs d'une variable de manière croissante\n",
    "print(df['age'].sort_values())"
   ]
  },
  {
   "cell_type": "code",
   "execution_count": null,
   "metadata": {},
   "outputs": [],
   "source": [
    "#nous pouvons aussi obtenir les indices des valeurs triées\n",
    "print(df['age'].argsort())"
   ]
  },
  {
   "cell_type": "code",
   "execution_count": null,
   "metadata": {},
   "outputs": [],
   "source": [
    "# Appliquer une fonction\n",
    "import numpy\n",
    "#fonction call back\n",
    "def operation(x):\n",
    "    return(x.mean())\n",
    "#appel de la fonction sur l'ensemble des colonnes du DataFrame\n",
    "#axis = 0 ==> chaque colonne sera transmise à la fonction operation()\n",
    "#la selection select_dtypes() permet d'exclure les variables non numériques\n",
    "\n",
    "resultat = df.select_dtypes(exclude=['object']).apply(operation,axis=0)\n",
    "print(resultat)"
   ]
  },
  {
   "cell_type": "markdown",
   "metadata": {},
   "source": [
    "#### Accès indicé aux données d'un DataFrame\n",
    "On peut accéder aux valeurs du DataFrame via des indices ou plages d'indice. La structure se comporte alors comme une\n",
    "matrice. La cellule en haut et à gauche est de coordonnées (0,0).\n",
    "Il y a différentes manières de le faire, l'utilisation de $.iloc[,]$ constitue une des solutions les plus simples. "
   ]
  },
  {
   "cell_type": "code",
   "execution_count": null,
   "metadata": {},
   "outputs": [],
   "source": [
    "#accès à la valeur située en (0,0)\n",
    "print(df.iloc[0,0])"
   ]
  },
  {
   "cell_type": "code",
   "execution_count": null,
   "metadata": {},
   "outputs": [],
   "source": [
    "#5 premières valeurs de toutes les colonnes\n",
    "#lignes => 0:5 (0 à 5 [non inclus])\n",
    "#colonnes = : (toutes les colonnes)\n",
    "print(df.iloc[0:5,:])"
   ]
  },
  {
   "cell_type": "code",
   "execution_count": null,
   "metadata": {},
   "outputs": [],
   "source": [
    "#liste des individus présentant une douleur de type A\n",
    "print(df.loc[df['typedouleur']==\"A\",:])"
   ]
  },
  {
   "cell_type": "code",
   "execution_count": null,
   "metadata": {},
   "outputs": [],
   "source": [
    "#liste des individus présentant une douleur de type A et angine == oui\n",
    "print(df.loc[(df['typedouleur']==\"A\") & (df['angine'] == \"oui\"),:])"
   ]
  },
  {
   "cell_type": "code",
   "execution_count": null,
   "metadata": {},
   "outputs": [],
   "source": [
    "# Croisement de variables\n",
    "print(pandas.crosstab(df['sexe'],df['coeur']))\n"
   ]
  },
  {
   "cell_type": "code",
   "execution_count": null,
   "metadata": {},
   "outputs": [],
   "source": [
    "#scission des données selon le sexe\n",
    "g = df.groupby('sexe')\n",
    "#calculer la dimension du sous-DataFrame associé aux hommes\n",
    "print(g.get_group('masculin').shape)"
   ]
  },
  {
   "cell_type": "markdown",
   "metadata": {},
   "source": [
    "#### Exercice  : créer un fichier Excel (d'après X. Dupré)\n",
    "\n",
    "On souhaite récupérer les données donnees_enquete_2003_television.txt (source : INSEE).\n",
    "\n",
    "+ POIDSLOG : Pondération individuelle relative\n",
    "+ POIDSF : Variable de pondération individuelle\n",
    "+ cLT1FREQ : Nombre d'heures en moyenne passées à regarder la télévision\n",
    "+ cLT2FREQ : Unité de temps utilisée pour compter le nombre d'heures passées à regarder la télévision, cette unité est représentée par les quatre valeurs suivantes\n",
    "  + 0 : non concerné\n",
    "  + 1 : jour\n",
    "  + 2 : semaine\n",
    "  + 3 : mois\n",
    "\n",
    "Ensuite, on veut :\n",
    "\n",
    "+ Supprimer les colonnes vides\n",
    "+ Obtenir les valeurs distinctes pour la colonne cLT2FREQ\n",
    "+ Modifier la matrice pour enlever les lignes pour lesquelles l'unité de temps (cLT2FREQ) n'est pas renseignée ou égale à zéro.\n",
    "+ Sauver le résultat au format Excel.\n",
    "\n",
    "\n",
    "Fonctions pouvant être utiles : **numpy.isnan, DataFrame.apply, DataFrame.fillna ou DataFrame.isnull, DataFrame.notnull, DataFrame.copy**"
   ]
  },
  {
   "cell_type": "code",
   "execution_count": null,
   "metadata": {},
   "outputs": [],
   "source": [
    "# TO DO\n"
   ]
  },
  {
   "cell_type": "markdown",
   "metadata": {},
   "source": [
    "#### Exercice : Manipulation de données réelles\n",
    "\n",
    "Nous allons utiiser les données ouvertes fournies par l'assemblée nationale et plus spécifiquement les données sur les députés au format JSON. Elles sont disponibles ici : http://data.assemblee-nationale.fr/acteurs/deputes-en-exercice\n",
    "\n",
    "Il s'agira donc dans un premier temps de :\n",
    " + Importer le fichier JSON avec Pandas\n",
    " + Comprendre la structure des données\n",
    " \n",
    "Puis un ensemble d'analyses simples sera réalisé pour répondre aux questions suivantes :\n",
    " + Déterminer si la parité est respectée\n",
    " + Représenter le nombre de députés par tranche d’âge\n",
    " + Calculer l’âge moyen par sexe\n",
    " + Lister les catégories professionnelles et métiers puis à représenter ceci de manière lisible par sexe.\n"
   ]
  },
  {
   "cell_type": "code",
   "execution_count": 10,
   "metadata": {},
   "outputs": [
    {
     "name": "stdout",
     "output_type": "stream",
     "text": [
      "dict_keys(['export'])\n"
     ]
    },
    {
     "data": {
      "text/plain": [
       "dict_keys(['@xmlns:xsi', 'organes', 'acteurs'])"
      ]
     },
     "execution_count": 10,
     "metadata": {},
     "output_type": "execute_result"
    }
   ],
   "source": [
    "import json\n",
    "\n",
    "data_file_name = \"./Data/deputes.json\"\n",
    "with open(data_file_name) as data_file:\n",
    "    json_data = json.load(data_file, encoding='utf-8')\n",
    "print(json_data.keys())\n",
    "json_data['export'].keys()"
   ]
  },
  {
   "cell_type": "code",
   "execution_count": null,
   "metadata": {},
   "outputs": [],
   "source": []
  },
  {
   "cell_type": "code",
   "execution_count": null,
   "metadata": {},
   "outputs": [],
   "source": []
  }
 ],
 "metadata": {
  "kernelspec": {
   "display_name": "Python 3",
   "language": "python",
   "name": "python3"
  },
  "language_info": {
   "codemirror_mode": {
    "name": "ipython",
    "version": 3
   },
   "file_extension": ".py",
   "mimetype": "text/x-python",
   "name": "python",
   "nbconvert_exporter": "python",
   "pygments_lexer": "ipython3",
   "version": "3.6.8"
  }
 },
 "nbformat": 4,
 "nbformat_minor": 2
}
